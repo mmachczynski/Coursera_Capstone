{
 "cells": [
  {
   "cell_type": "markdown",
   "metadata": {},
   "source": [
    "# Capstone Project - The Battle of Neighborhoods"
   ]
  },
  {
   "cell_type": "markdown",
   "metadata": {},
   "source": [
    "## Introduction / Business Problem\n",
    "The world, where we are living, seems to be very big and many places are known to us by names or photos only. Of course, during vacations we have posibility to travel across and admire them for a while. Unfortunately, there is nothing for free, so huge part of our lifes we spend at work.\n",
    "  \n",
    "Nowadays multinational companies are very common, and their current and new employees have possibility to choose preferrable locations among of available ones. Of course, there are a lot of the luckiest employees, who may work remotely from their homes, but number of jobs which can be done in that way is rather limited. In many cases we must relocate to another place, very often to another city or even another country. Relocation to another place is stressful and may influence on employees' efficiency at work, so it is not the issue for employees themselves only, but for employers too. When a company have a few sites where an employee can work, then by providing possibility of choice to the employee, the company may reduce relocation stress and be more satisfied with the employee's work results. Of course, such situation takes place more often for new employees than for old ones, but old ones very often can do it themselves using internal jobs market, which is very common in that kind of companies. \n",
    "  \n",
    "Usually we feel comfortable when we are living in the environment known to us. When we must change it due to relocation then our stress will be smaller when new one is similar to the old one. But how to pick up the right one among few proposed? That problem can be solved by data science, which can show us similarities and dissimilarities between different places, and allows us to make better choice.\n",
    "  \n",
    "Let us assume, that there is a company, hereinafter named as _Company_, which has its production sites in three different cities: A, B and C. Company is recruiting a new employee for a job, which can be done at any of its sites, and would like to provide to the employee the most convenient living environment, because the employee's skills are absolutely needed for Company. The employee is living in city X and relocation to new place is required.\n",
    "  \n",
    "Due to the fact, that it is crucial to Company to employ the best of the best, Company decides to increase attractiveness of its job offer not only by giving free choice of three different places to live but also by providing them ordered by similarity to the place, where the employee currently lives. So, it is natural, that Company asked a data scientist to create the relevant comparison, which may convince the hesitating employee.\n",
    "  \n",
    "_New York_ and _Toronto_ will be two of four cities mentioned above, full list of them will be included in the final version of this report."
   ]
  },
  {
   "cell_type": "markdown",
   "metadata": {},
   "source": [
    "## Data\n",
    "Data needed to compare those four different cities will be a combination of:\n",
    "* list of neighborhoods of each city, data sources: _various publicly available ones_\n",
    "* geolocation data of each neighbourhood mentioned above, data source: _Google Geocoding_\n",
    "* venues exploration of each neighborhood mentioned above, data source: _Foursquare_\n",
    "  \n",
    "The comparison will be done at two different levels:\n",
    "* neighborhoods level: it provides sets of similar neighborhoods for different cities; the sets, which do not contain any X's neighborhood will be removed, because they are not relevant in this case\n",
    "* cities level: it provides ordered list of cities starting from the most similar one to X; all venues will be treated with the same priority, because the employee's preferences and habits are unknown\n",
    "  \n",
    "Collected data will be processed to find out similarities at both levels by segmentation and clustering neighborhoods of all cities. k-means clustering algorithm will be used for clustering neighborhoods. To avoid potential data difference between venues explored in all neighborhoods of a city and the city itself, venues for the city will be concatenation of venues explored in all its neighborhoods.\n",
    "  \n",
    "_The result of the comparison at cities level will give the employee easy choice of the most similar city to that, where the employee currently lives. The result of comparison at neighborhoods level will guide the employee through neighbourhoods of chosen city._"
   ]
  }
 ],
 "metadata": {
  "kernelspec": {
   "display_name": "Python 3",
   "language": "python",
   "name": "python3"
  },
  "language_info": {
   "codemirror_mode": {
    "name": "ipython",
    "version": 3
   },
   "file_extension": ".py",
   "mimetype": "text/x-python",
   "name": "python",
   "nbconvert_exporter": "python",
   "pygments_lexer": "ipython3",
   "version": "3.6.9"
  }
 },
 "nbformat": 4,
 "nbformat_minor": 2
}
